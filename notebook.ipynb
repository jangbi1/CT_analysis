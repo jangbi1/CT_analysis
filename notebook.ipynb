{
 "cells": [
  {
   "cell_type": "code",
   "execution_count": null,
   "id": "8ff893ca-94d2-4514-93f4-2d28d3c0ef6b",
   "metadata": {},
   "outputs": [],
   "source": [
    "import pandas as pd\n",
    "from glob import glob \n",
    "from more_itertools import locate\n",
    "import csv\n",
    "from tqdm import tqdm\n",
    "import pydicom\n",
    "import time\n",
    "import datetime\n",
    "\n",
    "import io\n",
    "import os\n",
    "import matplotlib.pyplot as plt\n",
    "import numpy as np\n",
    "from pydicom.pixel_data_handlers.util import apply_modality_lut, apply_voi_lut"
   ]
  },
  {
   "cell_type": "code",
   "execution_count": null,
   "id": "ffe5f819-8576-4933-a944-87dedcb5fe01",
   "metadata": {},
   "outputs": [],
   "source": [
    "ct_lst = glob(\"/home/yisakk/COPD_ORG/CT_1/*\")\n",
    "ct2_lst = glob(\"/home/yisakk/COPD_ORG/CT_2/*\")\n",
    "\n",
    "ct_lst_total = ct_lst.copy()+ct2_lst.copy()\n",
    "ct_dict = {string[-8:] : string for string in ct_lst_total}\n",
    "mk_dict = {0:'targets2/', 1:'checklist/'}\n",
    "\n",
    "header_dir = '/home/yisakk/COPD_ORG/'\n",
    "import shutil\n",
    "from joblib import Parallel, delayed\n",
    "start = time.time()\n",
    "count=0\n",
    "flag=0\n",
    "ct_len=0\n",
    "str2='1.0'"
   ]
  },
  {
   "cell_type": "code",
   "execution_count": null,
   "id": "aa266aa7-30f5-42dc-b582-5da96691d7f2",
   "metadata": {},
   "outputs": [],
   "source": [
    "def slice_analysis(dcm_path, patient_num):\n",
    "    slices = pydicom.filereader.read_file(dcm_path, force=True)\n",
    "    if str2 in str(slices.get('SeriesDescription', '0') or '0').lower():\n",
    "        slices.save_as(''.join(['/home/yisakk/COPD_ORG/checklist/', patient_num, '/', str(slices.get('SeriesNumber', '0') or '0'),'-',str(slices.get('InstanceNumber', '0') or '0'), '.dcm']))"
   ]
  },
  {
   "cell_type": "code",
   "execution_count": null,
   "id": "135500d6-138e-4e16-9bfe-7f7434370dbd",
   "metadata": {},
   "outputs": [],
   "source": [
    "header_lst = glob(header_dir+'header/*')[626:]\n",
    "\n",
    "for header_idx in tqdm(header_lst, desc='Patient_count', position = 0, leave=True): \n",
    "    ct_len+=1\n",
    "    df = pd.read_csv(header_idx, low_memory = False)\n",
    "    patient_num = header_idx.rstrip('.csv')[-8:]\n",
    "    str1 = '1mm' # input(\"\\nTarget series is : \")\n",
    "        \n",
    "    series_des = df.get('SeriesDescription')\n",
    "    if series_des is None:\n",
    "        # wr.writerow([patient_num]+['X']+['Nan'])\n",
    "        continue\n",
    "    sd_vc = df.get('SeriesDescription').dropna().value_counts()\n",
    "    series_des = [element.lower() for element in sd_vc.index]    \n",
    "\n",
    "    if any(str1 in i for i in series_des) == False:\n",
    "        if any(str2 in i for i in series_des) == True:\n",
    "            count = 0\n",
    "            for i in range(len(sd_vc)):\n",
    "                if str2 in series_des[i]:\n",
    "                    count += sd_vc[i]\n",
    "                    \n",
    "            folder_count = len(glob(''.join(['/home/yisakk/COPD_ORG/checklist/', patient_num, '/*'])))\n",
    "            if count == folder_count:\n",
    "                print(f'We continued the folder-{patient_num} with {folder_count} insides / {count} descriptions')\n",
    "                continue\n",
    "            \n",
    "            else:\n",
    "                shutil.rmtree(''.join(['/home/yisakk/COPD_ORG/checklist/', patient_num]), ignore_errors=True)\n",
    "                print(f'We deleted the folder-{patient_num} with {folder_count} insides / {count} descriptions')\n",
    "\n",
    "                dcm_dir = ct_dict[patient_num]+'/*/*.dcm'\n",
    "                dic_list = glob(dcm_dir)\n",
    "                if os.path.isdir(''.join(['/home/yisakk/COPD_ORG/checklist/', patient_num]))==False:\n",
    "                    os.mkdir(''.join(['/home/yisakk/COPD_ORG/checklist/', patient_num]))\n",
    "                    _ = Parallel(n_jobs=8)(delayed(slice_analysis)(dcm_path, patient_num) for dcm_path in tqdm(dic_list, desc= f'{patient_num}', position = 1, leave=False))\n",
    "                    \n",
    "        # wt.writerow([ct_len]+[patient_num]+[series_des[i] for i in list(locate(series_des, lambda x: '1mm' in x))])\n",
    "        \n",
    "        \n",
    "    flag=0\n",
    "    \n",
    "    # if ct_len == 10:\n",
    "    #     break\n",
    "end = time.time() - start\n",
    "\n",
    "times = str(datetime.timedelta(seconds=end))   \n",
    "short = times.split(\".\")[0]\n",
    "print(f\"{short} sec\")"
   ]
  }
 ],
 "metadata": {
  "kernelspec": {
   "display_name": "Python 3 (ipykernel)",
   "language": "python",
   "name": "python3"
  },
  "language_info": {
   "codemirror_mode": {
    "name": "ipython",
    "version": 3
   },
   "file_extension": ".py",
   "mimetype": "text/x-python",
   "name": "python",
   "nbconvert_exporter": "python",
   "pygments_lexer": "ipython3",
   "version": "3.8.15"
  }
 },
 "nbformat": 4,
 "nbformat_minor": 5
}
