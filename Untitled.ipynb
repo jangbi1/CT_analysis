{
 "cells": [
  {
   "cell_type": "code",
   "execution_count": 1,
   "id": "8ff893ca-94d2-4514-93f4-2d28d3c0ef6b",
   "metadata": {},
   "outputs": [],
   "source": [
    "import pandas as pd\n",
    "from glob import glob \n",
    "from more_itertools import locate\n",
    "import csv\n",
    "from tqdm import tqdm\n",
    "import pydicom\n",
    "import time\n",
    "import datetime\n",
    "\n",
    "import io\n",
    "import os\n",
    "import matplotlib.pyplot as plt\n",
    "import numpy as np\n",
    "from pydicom.pixel_data_handlers.util import apply_modality_lut, apply_voi_lut"
   ]
  },
  {
   "cell_type": "code",
   "execution_count": 2,
   "id": "ffe5f819-8576-4933-a944-87dedcb5fe01",
   "metadata": {},
   "outputs": [],
   "source": [
    "ct_lst = glob(\"/home/yisakk/COPD_ORG/CT_1/*\")\n",
    "ct2_lst = glob(\"/home/yisakk/COPD_ORG/CT_2/*\")\n",
    "\n",
    "ct_lst_total = ct_lst.copy()+ct2_lst.copy()\n",
    "ct_dict = {string[-8:] : string for string in ct_lst_total}\n",
    "mk_dict = {0:'targets2/', 1:'checklist/'}\n",
    "\n",
    "header_dir = '/home/yisakk/COPD_ORG/'\n",
    "import shutil\n",
    "from joblib import Parallel, delayed\n",
    "start = time.time()\n",
    "count=0\n",
    "flag=0\n",
    "ct_len=0\n",
    "str2='1.0'"
   ]
  },
  {
   "cell_type": "code",
   "execution_count": 35,
   "id": "aa266aa7-30f5-42dc-b582-5da96691d7f2",
   "metadata": {},
   "outputs": [],
   "source": [
    "def slice_analysis(dcm_path, patient_num):\n",
    "    slices = pydicom.filereader.read_file(dcm_path, force=True)\n",
    "    if str2 in str(slices.get('SeriesDescription', '0') or '0').lower():\n",
    "        slices.save_as(''.join(['/home/yisakk/COPD_ORG/checklist/', patient_num, '/', str(slices.get('SeriesNumber', '0') or '0'),'-',str(slices.get('InstanceNumber', '0') or '0'), '.dcm']))\n",
    "        "
   ]
  },
  {
   "cell_type": "code",
   "execution_count": 5,
   "id": "0ab6ec0a-81b5-48b3-ac7e-b05b750fb387",
   "metadata": {},
   "outputs": [
    {
     "data": {
      "text/plain": [
       "array(['Flash_LowDose  3.0  Br40  3', 'Flash_LowDose  1.0  Br59  3',\n",
       "       'Flash_LowDose  3.0  MPR  cor', 'Patient Protocol',\n",
       "       'Topogram  1.0  Tr20', 'YD INSPIRATION', 'B INSPIRATION',\n",
       "       'B EXPIRATION', 'YD EXPIRATION', 'IN', 'EX', nan, 'Exam Summary',\n",
       "       'Rapidia Capture Image', 'KJY'], dtype=object)"
      ]
     },
     "execution_count": 5,
     "metadata": {},
     "output_type": "execute_result"
    }
   ],
   "source": [
    "header_lst = glob(header_dir+'header/*')"
   ]
  },
  {
   "cell_type": "code",
   "execution_count": 6,
   "id": "9c660fc2-c114-499e-a692-89bb7500c9e9",
   "metadata": {},
   "outputs": [
    {
     "data": {
      "text/plain": [
       "array(['Low Dose  1.0  B60f', 'Low Dose  3.0  B30f',\n",
       "       'Low Dose  3.0  MPR  cor', 'Patient Protocol',\n",
       "       'Topogram  0.6  T20s', 'Chest CE  1.0  Br59  3',\n",
       "       'Chest CE  3.0  MPR  cor', 'Chest CE  3.0  Br40  3',\n",
       "       'Topogram  1.0  Tr20', '1mm IDOSE4 -0.75, iDose (4)',\n",
       "       '1mm IDOSE4, iDose (4)', '1mm FBP', 'COR  IDOSE 4, iDose (4)',\n",
       "       '1mm FBP -0.75', '3mm IDOSE 4, iDose (4)', 'OSM', nan,\n",
       "       'Exam Summary', '1mm SP1', 'COR', '3mm IMR 1'], dtype=object)"
      ]
     },
     "execution_count": 6,
     "metadata": {},
     "output_type": "execute_result"
    }
   ],
   "source": [
    "df = pd.read_csv(header_lst[4281], low_memory = False)\n",
    "df.get('SeriesDescription').unique()"
   ]
  },
  {
   "cell_type": "code",
   "execution_count": null,
   "id": "31f94925-e603-44f9-821a-c3dbef956029",
   "metadata": {},
   "outputs": [],
   "source": [
    "len(glob('/home/yisakk/COPD_ORG/checklist/46220196/*'))"
   ]
  },
  {
   "cell_type": "code",
   "execution_count": null,
   "id": "209252d5-f577-4ff3-9973-ff49135284e6",
   "metadata": {},
   "outputs": [],
   "source": [
    "create_time = os.path.getatime('/home/yisakk/COPD_ORG/checklist/49632589/')\n",
    "import datetime\n",
    "create_timestamp = datetime.datetime.fromtimestamp(create_time)\n",
    "print(type(create_timestamp), create_timestamp)"
   ]
  },
  {
   "cell_type": "code",
   "execution_count": null,
   "id": "135500d6-138e-4e16-9bfe-7f7434370dbd",
   "metadata": {},
   "outputs": [],
   "source": [
    "header_lst = glob(header_dir+'header/*')[4313:]\n",
    "\n",
    "for header_idx in tqdm(header_lst, desc='Patient_count', position = 0, leave=True): \n",
    "    ct_len+=1\n",
    "    df = pd.read_csv(header_idx, low_memory = False)\n",
    "    patient_num = header_idx.rstrip('.csv')[-8:]\n",
    "    str1 = '1mm' # input(\"\\nTarget series is : \")\n",
    "        \n",
    "    series_des = df.get('SeriesDescription')\n",
    "    if series_des is None:\n",
    "        # wr.writerow([patient_num]+['X']+['Nan'])\n",
    "        continue\n",
    "    sd_vc = df.get('SeriesDescription').dropna().value_counts()\n",
    "    series_des = [element.lower() for element in sd_vc.index]    \n",
    "\n",
    "    if any(str1 in i for i in series_des) == False:\n",
    "        if any(str2 in i for i in series_des) == True:\n",
    "            count = 0\n",
    "            for i in range(len(sd_vc)):\n",
    "                if str2 in series_des[i]:\n",
    "                    count += sd_vc[i]\n",
    "                    \n",
    "            folder_count = len(glob(''.join(['/home/yisakk/COPD_ORG/checklist/', patient_num, '/*'])))\n",
    "            if count == folder_count:\n",
    "                print(f'We continued the folder-{patient_num} with {folder_count} insides / {count} descriptions')\n",
    "                continue\n",
    "            \n",
    "            else:\n",
    "                shutil.rmtree(''.join(['/home/yisakk/COPD_ORG/checklist/', patient_num]), ignore_errors=True)\n",
    "                print(f'We deleted the folder-{patient_num} with {folder_count} insides / {count} descriptions')\n",
    "\n",
    "                dcm_dir = ct_dict[patient_num]+'/*/*.dcm'\n",
    "                dic_list = glob(dcm_dir)\n",
    "                if os.path.isdir(''.join(['/home/yisakk/COPD_ORG/checklist/', patient_num]))==False:\n",
    "                    os.mkdir(''.join(['/home/yisakk/COPD_ORG/checklist/', patient_num]))\n",
    "                    _ = Parallel(n_jobs=8)(delayed(slice_analysis)(dcm_path, patient_num) for dcm_path in tqdm(dic_list, desc= f'{patient_num}', position = 1, leave=False))\n",
    "                    \n",
    "        # wt.writerow([ct_len]+[patient_num]+[series_des[i] for i in list(locate(series_des, lambda x: '1mm' in x))])\n",
    "        \n",
    "    flag=0\n",
    "    \n",
    "    # if ct_len == 10:\n",
    "    #     break\n",
    "end = time.time() - start\n",
    "\n",
    "times = str(datetime.timedelta(seconds=end))   \n",
    "short = times.split(\".\")[0]\n",
    "print(f\"{short} sec\")"
   ]
  },
  {
   "cell_type": "code",
   "execution_count": null,
   "id": "4dafd4e1-bb57-4745-bd36-aa9a74bf1ed8",
   "metadata": {},
   "outputs": [],
   "source": [
    "from rich.progress import Progress\n",
    "!pip install ipywidgets"
   ]
  },
  {
   "cell_type": "code",
   "execution_count": 28,
   "id": "25b9979e-a1d8-4f14-b2f4-bfb67b9b69f2",
   "metadata": {},
   "outputs": [
    {
     "name": "stdout",
     "output_type": "stream",
     "text": [
      "Collecting enlighten\n",
      "  Downloading enlighten-1.11.2-py2.py3-none-any.whl (53 kB)\n",
      "\u001b[2K     \u001b[90m━━━━━━━━━━━━━━━━━━━━━━━━━━━━━━━━━━━━━━━━\u001b[0m \u001b[32m53.7/53.7 kB\u001b[0m \u001b[31m2.2 MB/s\u001b[0m eta \u001b[36m0:00:00\u001b[0m\n",
      "\u001b[?25hCollecting blessed>=1.17.7\n",
      "  Downloading blessed-1.20.0-py2.py3-none-any.whl (58 kB)\n",
      "\u001b[2K     \u001b[90m━━━━━━━━━━━━━━━━━━━━━━━━━━━━━━━━━━━━━━━━\u001b[0m \u001b[32m58.4/58.4 kB\u001b[0m \u001b[31m5.3 MB/s\u001b[0m eta \u001b[36m0:00:00\u001b[0m\n",
      "\u001b[?25hCollecting prefixed>=0.3.2\n",
      "  Downloading prefixed-0.7.0-py2.py3-none-any.whl (13 kB)\n",
      "Requirement already satisfied: six>=1.9.0 in /usr/local/lib/python3.8/site-packages (from blessed>=1.17.7->enlighten) (1.16.0)\n",
      "Requirement already satisfied: wcwidth>=0.1.4 in /usr/local/lib/python3.8/site-packages (from blessed>=1.17.7->enlighten) (0.2.5)\n",
      "Installing collected packages: prefixed, blessed, enlighten\n",
      "Successfully installed blessed-1.20.0 enlighten-1.11.2 prefixed-0.7.0\n",
      "\u001b[33mWARNING: Running pip as the 'root' user can result in broken permissions and conflicting behaviour with the system package manager. It is recommended to use a virtual environment instead: https://pip.pypa.io/warnings/venv\u001b[0m\u001b[33m\n",
      "\u001b[0m\n",
      "\u001b[1m[\u001b[0m\u001b[34;49mnotice\u001b[0m\u001b[1;39;49m]\u001b[0m\u001b[39;49m A new release of pip available: \u001b[0m\u001b[31;49m22.3\u001b[0m\u001b[39;49m -> \u001b[0m\u001b[32;49m23.0.1\u001b[0m\n",
      "\u001b[1m[\u001b[0m\u001b[34;49mnotice\u001b[0m\u001b[1;39;49m]\u001b[0m\u001b[39;49m To update, run: \u001b[0m\u001b[32;49mpip install --upgrade pip\u001b[0m\n"
     ]
    }
   ],
   "source": [
    "!pip install enlighten"
   ]
  },
  {
   "cell_type": "code",
   "execution_count": null,
   "id": "617b5ee5-2fe3-457e-ae89-1fa71ad7e9cd",
   "metadata": {},
   "outputs": [],
   "source": [
    "import time\n",
    "import enlighten\n",
    "\n",
    "manager = enlighten.get_manager()\n",
    "ticks = manager.counter(total=100, desc=\"Ticks\", unit=\"ticks\", color=\"red\")\n",
    "tocks = manager.counter(total=20, desc=\"Tocks\", unit=\"tocks\", color=\"blue\")\n",
    "\n",
    "for num in range(100):\n",
    "    time.sleep(0.1)  # Simulate work\n",
    "    print(\"The quick brown fox jumps over the lazy dog. {}\".format(num))\n",
    "    ticks.update()\n",
    "    if not num % 5:\n",
    "        tocks.update()\n",
    "\n",
    "manager.stop()"
   ]
  },
  {
   "cell_type": "code",
   "execution_count": 40,
   "id": "c0bc660b-6486-44e1-840c-ee626d37711c",
   "metadata": {},
   "outputs": [
    {
     "name": "stderr",
     "output_type": "stream",
     "text": [
      "100%|█████████████████████████████████████████████████████████████████████████████████████████████████████████████████████████████████████████████████████████████████████████████████████████████████████████████████████████████████████| 1042/1042 [3:01:20<00:00, 10.44s/it]\n"
     ]
    }
   ],
   "source": [
    "def lenlen(dcm_path):\n",
    "    return len(glob(dcm_path+'/*'))\n",
    "a = 0\n",
    "\n",
    "c_list = glob('/home/yisakk/COPD_ORG/checklist/*')\n",
    "for dcm_path in tqdm(c_list, position = 0, leave=True):\n",
    "    a += len(glob(dcm_path+'/*'))\n"
   ]
  },
  {
   "cell_type": "code",
   "execution_count": 41,
   "id": "fa95ea59-67aa-4b27-900d-c470502be0c4",
   "metadata": {},
   "outputs": [
    {
     "data": {
      "text/plain": [
       "693504"
      ]
     },
     "execution_count": 41,
     "metadata": {},
     "output_type": "execute_result"
    }
   ],
   "source": [
    "a"
   ]
  },
  {
   "cell_type": "code",
   "execution_count": 42,
   "id": "28949b03-71f3-4ae6-aa5e-9f1625939a8f",
   "metadata": {},
   "outputs": [
    {
     "name": "stdout",
     "output_type": "stream",
     "text": [
      "Collecting transformers\n",
      "  Downloading transformers-4.27.4-py3-none-any.whl (6.8 MB)\n",
      "\u001b[2K     \u001b[90m━━━━━━━━━━━━━━━━━━━━━━━━━━━━━━━━━━━━━━━━\u001b[0m \u001b[32m6.8/6.8 MB\u001b[0m \u001b[31m4.8 MB/s\u001b[0m eta \u001b[36m0:00:00\u001b[0m00:01\u001b[0m00:01\u001b[0mm\n",
      "\u001b[?25hRequirement already satisfied: requests in /usr/local/lib/python3.8/site-packages (from transformers) (2.28.1)\n",
      "Requirement already satisfied: numpy>=1.17 in /usr/local/lib/python3.8/site-packages (from transformers) (1.23.4)\n",
      "Collecting regex!=2019.12.17\n",
      "  Downloading regex-2023.3.23-cp38-cp38-manylinux_2_17_x86_64.manylinux2014_x86_64.whl (771 kB)\n",
      "\u001b[2K     \u001b[90m━━━━━━━━━━━━━━━━━━━━━━━━━━━━━━━━━━━━━━━\u001b[0m \u001b[32m771.9/771.9 kB\u001b[0m \u001b[31m3.3 MB/s\u001b[0m eta \u001b[36m0:00:00\u001b[0m00:01\u001b[0m00:01\u001b[0m\n",
      "\u001b[?25hCollecting pyyaml>=5.1\n",
      "  Downloading PyYAML-6.0-cp38-cp38-manylinux_2_5_x86_64.manylinux1_x86_64.manylinux_2_12_x86_64.manylinux2010_x86_64.whl (701 kB)\n",
      "\u001b[2K     \u001b[90m━━━━━━━━━━━━━━━━━━━━━━━━━━━━━━━━━━━━━━━\u001b[0m \u001b[32m701.2/701.2 kB\u001b[0m \u001b[31m2.4 MB/s\u001b[0m eta \u001b[36m0:00:00\u001b[0ma \u001b[36m0:00:01\u001b[0m\n",
      "\u001b[?25hCollecting huggingface-hub<1.0,>=0.11.0\n",
      "  Downloading huggingface_hub-0.13.4-py3-none-any.whl (200 kB)\n",
      "\u001b[2K     \u001b[90m━━━━━━━━━━━━━━━━━━━━━━━━━━━━━━━━━━━━━━━\u001b[0m \u001b[32m200.1/200.1 kB\u001b[0m \u001b[31m3.1 MB/s\u001b[0m eta \u001b[36m0:00:00\u001b[0ma \u001b[36m0:00:01\u001b[0m\n",
      "\u001b[?25hRequirement already satisfied: tqdm>=4.27 in /usr/local/lib/python3.8/site-packages (from transformers) (4.65.0)\n",
      "Collecting tokenizers!=0.11.3,<0.14,>=0.11.1\n",
      "  Downloading tokenizers-0.13.3-cp38-cp38-manylinux_2_17_x86_64.manylinux2014_x86_64.whl (7.8 MB)\n",
      "\u001b[2K     \u001b[90m━━━━━━━━━━━━━━━━━━━━━━━━━━━━━━━━━━━━━━━━\u001b[0m \u001b[32m7.8/7.8 MB\u001b[0m \u001b[31m3.7 MB/s\u001b[0m eta \u001b[36m0:00:00\u001b[0m00:01\u001b[0m00:01\u001b[0m\n",
      "\u001b[?25hCollecting filelock\n",
      "  Downloading filelock-3.11.0-py3-none-any.whl (10.0 kB)\n",
      "Requirement already satisfied: packaging>=20.0 in /usr/local/lib/python3.8/site-packages (from transformers) (21.3)\n",
      "Requirement already satisfied: typing-extensions>=3.7.4.3 in /usr/local/lib/python3.8/site-packages (from huggingface-hub<1.0,>=0.11.0->transformers) (4.4.0)\n",
      "Requirement already satisfied: pyparsing!=3.0.5,>=2.0.2 in /usr/local/lib/python3.8/site-packages (from packaging>=20.0->transformers) (3.0.9)\n",
      "Requirement already satisfied: certifi>=2017.4.17 in /usr/local/lib/python3.8/site-packages (from requests->transformers) (2022.9.24)\n",
      "Requirement already satisfied: charset-normalizer<3,>=2 in /usr/local/lib/python3.8/site-packages (from requests->transformers) (2.1.1)\n",
      "Requirement already satisfied: urllib3<1.27,>=1.21.1 in /usr/local/lib/python3.8/site-packages (from requests->transformers) (1.26.12)\n",
      "Requirement already satisfied: idna<4,>=2.5 in /usr/local/lib/python3.8/site-packages (from requests->transformers) (3.4)\n",
      "Installing collected packages: tokenizers, regex, pyyaml, filelock, huggingface-hub, transformers\n",
      "Successfully installed filelock-3.11.0 huggingface-hub-0.13.4 pyyaml-6.0 regex-2023.3.23 tokenizers-0.13.3 transformers-4.27.4\n",
      "\u001b[33mWARNING: Running pip as the 'root' user can result in broken permissions and conflicting behaviour with the system package manager. It is recommended to use a virtual environment instead: https://pip.pypa.io/warnings/venv\u001b[0m\u001b[33m\n",
      "\u001b[0m\n",
      "\u001b[1m[\u001b[0m\u001b[34;49mnotice\u001b[0m\u001b[1;39;49m]\u001b[0m\u001b[39;49m A new release of pip available: \u001b[0m\u001b[31;49m22.3\u001b[0m\u001b[39;49m -> \u001b[0m\u001b[32;49m23.0.1\u001b[0m\n",
      "\u001b[1m[\u001b[0m\u001b[34;49mnotice\u001b[0m\u001b[1;39;49m]\u001b[0m\u001b[39;49m To update, run: \u001b[0m\u001b[32;49mpip install --upgrade pip\u001b[0m\n",
      "Collecting datasets\n",
      "  Downloading datasets-2.11.0-py3-none-any.whl (468 kB)\n",
      "\u001b[2K     \u001b[90m━━━━━━━━━━━━━━━━━━━━━━━━━━━━━━━━━━━━━━\u001b[0m \u001b[32m468.7/468.7 kB\u001b[0m \u001b[31m19.3 MB/s\u001b[0m eta \u001b[36m0:00:00\u001b[0m\n",
      "\u001b[?25hRequirement already satisfied: requests>=2.19.0 in /usr/local/lib/python3.8/site-packages (from datasets) (2.28.1)\n",
      "Requirement already satisfied: huggingface-hub<1.0.0,>=0.11.0 in /usr/local/lib/python3.8/site-packages (from datasets) (0.13.4)\n",
      "Requirement already satisfied: packaging in /usr/local/lib/python3.8/site-packages (from datasets) (21.3)\n",
      "Requirement already satisfied: pyyaml>=5.1 in /usr/local/lib/python3.8/site-packages (from datasets) (6.0)\n",
      "Requirement already satisfied: pandas in /usr/local/lib/python3.8/site-packages (from datasets) (1.5.0)\n",
      "Requirement already satisfied: numpy>=1.17 in /usr/local/lib/python3.8/site-packages (from datasets) (1.23.4)\n",
      "Collecting responses<0.19\n",
      "  Downloading responses-0.18.0-py3-none-any.whl (38 kB)\n",
      "Collecting multiprocess\n",
      "  Downloading multiprocess-0.70.14-py38-none-any.whl (132 kB)\n",
      "\u001b[2K     \u001b[90m━━━━━━━━━━━━━━━━━━━━━━━━━━━━━━━━━━━━━━\u001b[0m \u001b[32m132.0/132.0 kB\u001b[0m \u001b[31m14.3 MB/s\u001b[0m eta \u001b[36m0:00:00\u001b[0m\n",
      "\u001b[?25hCollecting pyarrow>=8.0.0\n",
      "  Downloading pyarrow-11.0.0-cp38-cp38-manylinux_2_17_x86_64.manylinux2014_x86_64.whl (35.0 MB)\n",
      "\u001b[2K     \u001b[90m━━━━━━━━━━━━━━━━━━━━━━━━━━━━━━━━━━━━━━━━\u001b[0m \u001b[32m35.0/35.0 MB\u001b[0m \u001b[31m4.2 MB/s\u001b[0m eta \u001b[36m0:00:00\u001b[0m00:01\u001b[0m00:01\u001b[0m\n",
      "\u001b[?25hRequirement already satisfied: tqdm>=4.62.1 in /usr/local/lib/python3.8/site-packages (from datasets) (4.65.0)\n",
      "Collecting aiohttp\n",
      "  Downloading aiohttp-3.8.4-cp38-cp38-manylinux_2_17_x86_64.manylinux2014_x86_64.whl (1.0 MB)\n",
      "\u001b[2K     \u001b[90m━━━━━━━━━━━━━━━━━━━━━━━━━━━━━━━━━━━━━━━━\u001b[0m \u001b[32m1.0/1.0 MB\u001b[0m \u001b[31m5.0 MB/s\u001b[0m eta \u001b[36m0:00:00\u001b[0ma \u001b[36m0:00:01\u001b[0m\n",
      "\u001b[?25hCollecting dill<0.3.7,>=0.3.0\n",
      "  Downloading dill-0.3.6-py3-none-any.whl (110 kB)\n",
      "\u001b[2K     \u001b[90m━━━━━━━━━━━━━━━━━━━━━━━━━━━━━━━━━━━━━━━\u001b[0m \u001b[32m110.5/110.5 kB\u001b[0m \u001b[31m5.5 MB/s\u001b[0m eta \u001b[36m0:00:00\u001b[0m\n",
      "\u001b[?25hCollecting xxhash\n",
      "  Downloading xxhash-3.2.0-cp38-cp38-manylinux_2_17_x86_64.manylinux2014_x86_64.whl (213 kB)\n",
      "\u001b[2K     \u001b[90m━━━━━━━━━━━━━━━━━━━━━━━━━━━━━━━━━━━━━━━\u001b[0m \u001b[32m213.0/213.0 kB\u001b[0m \u001b[31m4.0 MB/s\u001b[0m eta \u001b[36m0:00:00\u001b[0ma \u001b[36m0:00:01\u001b[0m\n",
      "\u001b[?25hCollecting fsspec[http]>=2021.11.1\n",
      "  Downloading fsspec-2023.4.0-py3-none-any.whl (153 kB)\n",
      "\u001b[2K     \u001b[90m━━━━━━━━━━━━━━━━━━━━━━━━━━━━━━━━━━━━━━━\u001b[0m \u001b[32m154.0/154.0 kB\u001b[0m \u001b[31m3.1 MB/s\u001b[0m eta \u001b[36m0:00:00\u001b[0m00:01\u001b[0m\n",
      "\u001b[?25hCollecting async-timeout<5.0,>=4.0.0a3\n",
      "  Downloading async_timeout-4.0.2-py3-none-any.whl (5.8 kB)\n",
      "Collecting aiosignal>=1.1.2\n",
      "  Downloading aiosignal-1.3.1-py3-none-any.whl (7.6 kB)\n",
      "Requirement already satisfied: charset-normalizer<4.0,>=2.0 in /usr/local/lib/python3.8/site-packages (from aiohttp->datasets) (2.1.1)\n",
      "Collecting frozenlist>=1.1.1\n",
      "  Downloading frozenlist-1.3.3-cp38-cp38-manylinux_2_5_x86_64.manylinux1_x86_64.manylinux_2_17_x86_64.manylinux2014_x86_64.whl (161 kB)\n",
      "\u001b[2K     \u001b[90m━━━━━━━━━━━━━━━━━━━━━━━━━━━━━━━━━━━━━━━\u001b[0m \u001b[32m161.3/161.3 kB\u001b[0m \u001b[31m3.0 MB/s\u001b[0m eta \u001b[36m0:00:00\u001b[0ma \u001b[36m0:00:01\u001b[0m\n",
      "\u001b[?25hRequirement already satisfied: attrs>=17.3.0 in /usr/local/lib/python3.8/site-packages (from aiohttp->datasets) (22.1.0)\n",
      "Collecting multidict<7.0,>=4.5\n",
      "  Downloading multidict-6.0.4-cp38-cp38-manylinux_2_17_x86_64.manylinux2014_x86_64.whl (121 kB)\n",
      "\u001b[2K     \u001b[90m━━━━━━━━━━━━━━━━━━━━━━━━━━━━━━━━━━━━━━━\u001b[0m \u001b[32m121.3/121.3 kB\u001b[0m \u001b[31m2.9 MB/s\u001b[0m eta \u001b[36m0:00:00\u001b[0ma \u001b[36m0:00:01\u001b[0m\n",
      "\u001b[?25hCollecting yarl<2.0,>=1.0\n",
      "  Downloading yarl-1.8.2-cp38-cp38-manylinux_2_17_x86_64.manylinux2014_x86_64.whl (262 kB)\n",
      "\u001b[2K     \u001b[90m━━━━━━━━━━━━━━━━━━━━━━━━━━━━━━━━━━━━━━━\u001b[0m \u001b[32m262.1/262.1 kB\u001b[0m \u001b[31m4.5 MB/s\u001b[0m eta \u001b[36m0:00:00\u001b[0ma \u001b[36m0:00:01\u001b[0m\n",
      "\u001b[?25hRequirement already satisfied: typing-extensions>=3.7.4.3 in /usr/local/lib/python3.8/site-packages (from huggingface-hub<1.0.0,>=0.11.0->datasets) (4.4.0)\n",
      "Requirement already satisfied: filelock in /usr/local/lib/python3.8/site-packages (from huggingface-hub<1.0.0,>=0.11.0->datasets) (3.11.0)\n",
      "Requirement already satisfied: pyparsing!=3.0.5,>=2.0.2 in /usr/local/lib/python3.8/site-packages (from packaging->datasets) (3.0.9)\n",
      "Requirement already satisfied: urllib3<1.27,>=1.21.1 in /usr/local/lib/python3.8/site-packages (from requests>=2.19.0->datasets) (1.26.12)\n",
      "Requirement already satisfied: certifi>=2017.4.17 in /usr/local/lib/python3.8/site-packages (from requests>=2.19.0->datasets) (2022.9.24)\n",
      "Requirement already satisfied: idna<4,>=2.5 in /usr/local/lib/python3.8/site-packages (from requests>=2.19.0->datasets) (3.4)\n",
      "Requirement already satisfied: pytz>=2020.1 in /usr/local/lib/python3.8/site-packages (from pandas->datasets) (2022.4)\n",
      "Requirement already satisfied: python-dateutil>=2.8.1 in /usr/local/lib/python3.8/site-packages (from pandas->datasets) (2.8.2)\n",
      "Requirement already satisfied: six>=1.5 in /usr/local/lib/python3.8/site-packages (from python-dateutil>=2.8.1->pandas->datasets) (1.16.0)\n",
      "Installing collected packages: xxhash, pyarrow, multidict, fsspec, frozenlist, dill, async-timeout, yarl, responses, multiprocess, aiosignal, aiohttp, datasets\n",
      "Successfully installed aiohttp-3.8.4 aiosignal-1.3.1 async-timeout-4.0.2 datasets-2.11.0 dill-0.3.6 frozenlist-1.3.3 fsspec-2023.4.0 multidict-6.0.4 multiprocess-0.70.14 pyarrow-11.0.0 responses-0.18.0 xxhash-3.2.0 yarl-1.8.2\n",
      "\u001b[33mWARNING: Running pip as the 'root' user can result in broken permissions and conflicting behaviour with the system package manager. It is recommended to use a virtual environment instead: https://pip.pypa.io/warnings/venv\u001b[0m\u001b[33m\n",
      "\u001b[0m\n",
      "\u001b[1m[\u001b[0m\u001b[34;49mnotice\u001b[0m\u001b[1;39;49m]\u001b[0m\u001b[39;49m A new release of pip available: \u001b[0m\u001b[31;49m22.3\u001b[0m\u001b[39;49m -> \u001b[0m\u001b[32;49m23.0.1\u001b[0m\n",
      "\u001b[1m[\u001b[0m\u001b[34;49mnotice\u001b[0m\u001b[1;39;49m]\u001b[0m\u001b[39;49m To update, run: \u001b[0m\u001b[32;49mpip install --upgrade pip\u001b[0m\n"
     ]
    }
   ],
   "source": [
    "!pip install transformers\n",
    "!pip install datasets"
   ]
  },
  {
   "cell_type": "code",
   "execution_count": 50,
   "id": "c0c072bd-038e-4f19-a8c0-f869f82703d7",
   "metadata": {},
   "outputs": [
    {
     "ename": "ImportError",
     "evalue": "This example requires a source install from HuggingFace Transformers (see `https://huggingface.co/transformers/installation.html#installing-from-source`), but the version found is 4.27.4.\nCheck out https://huggingface.co/transformers/examples.html for the examples corresponding to other versions of HuggingFace Transformers.",
     "output_type": "error",
     "traceback": [
      "\u001b[0;31m---------------------------------------------------------------------------\u001b[0m",
      "\u001b[0;31mImportError\u001b[0m                               Traceback (most recent call last)",
      "Cell \u001b[0;32mIn [50], line 3\u001b[0m\n\u001b[1;32m      1\u001b[0m \u001b[38;5;28;01mfrom\u001b[39;00m \u001b[38;5;21;01mtransformers\u001b[39;00m\u001b[38;5;21;01m.\u001b[39;00m\u001b[38;5;21;01mutils\u001b[39;00m \u001b[38;5;28;01mimport\u001b[39;00m check_min_version, send_example_telemetry\n\u001b[1;32m      2\u001b[0m \u001b[38;5;28;01mfrom\u001b[39;00m \u001b[38;5;21;01mtransformers\u001b[39;00m\u001b[38;5;21;01m.\u001b[39;00m\u001b[38;5;21;01mutils\u001b[39;00m\u001b[38;5;21;01m.\u001b[39;00m\u001b[38;5;21;01mversions\u001b[39;00m \u001b[38;5;28;01mimport\u001b[39;00m require_version\n\u001b[0;32m----> 3\u001b[0m \u001b[43mcheck_min_version\u001b[49m\u001b[43m(\u001b[49m\u001b[38;5;124;43m\"\u001b[39;49m\u001b[38;5;124;43m4.28.0.dev0\u001b[39;49m\u001b[38;5;124;43m\"\u001b[39;49m\u001b[43m)\u001b[49m\n",
      "File \u001b[0;32m/usr/local/lib/python3.8/site-packages/transformers/utils/__init__.py:205\u001b[0m, in \u001b[0;36mcheck_min_version\u001b[0;34m(min_version)\u001b[0m\n\u001b[1;32m    203\u001b[0m     error_message \u001b[38;5;241m=\u001b[39m \u001b[38;5;124mf\u001b[39m\u001b[38;5;124m\"\u001b[39m\u001b[38;5;124mThis example requires a minimum version of \u001b[39m\u001b[38;5;132;01m{\u001b[39;00mmin_version\u001b[38;5;132;01m}\u001b[39;00m\u001b[38;5;124m,\u001b[39m\u001b[38;5;124m\"\u001b[39m\n\u001b[1;32m    204\u001b[0m error_message \u001b[38;5;241m+\u001b[39m\u001b[38;5;241m=\u001b[39m \u001b[38;5;124mf\u001b[39m\u001b[38;5;124m\"\u001b[39m\u001b[38;5;124m but the version found is \u001b[39m\u001b[38;5;132;01m{\u001b[39;00m__version__\u001b[38;5;132;01m}\u001b[39;00m\u001b[38;5;124m.\u001b[39m\u001b[38;5;130;01m\\n\u001b[39;00m\u001b[38;5;124m\"\u001b[39m\n\u001b[0;32m--> 205\u001b[0m \u001b[38;5;28;01mraise\u001b[39;00m \u001b[38;5;167;01mImportError\u001b[39;00m(\n\u001b[1;32m    206\u001b[0m     error_message\n\u001b[1;32m    207\u001b[0m     \u001b[38;5;241m+\u001b[39m \u001b[38;5;124m\"\u001b[39m\u001b[38;5;124mCheck out https://huggingface.co/transformers/examples.html for the examples corresponding to other \u001b[39m\u001b[38;5;124m\"\u001b[39m\n\u001b[1;32m    208\u001b[0m     \u001b[38;5;124m\"\u001b[39m\u001b[38;5;124mversions of HuggingFace Transformers.\u001b[39m\u001b[38;5;124m\"\u001b[39m\n\u001b[1;32m    209\u001b[0m )\n",
      "\u001b[0;31mImportError\u001b[0m: This example requires a source install from HuggingFace Transformers (see `https://huggingface.co/transformers/installation.html#installing-from-source`), but the version found is 4.27.4.\nCheck out https://huggingface.co/transformers/examples.html for the examples corresponding to other versions of HuggingFace Transformers."
     ]
    }
   ],
   "source": [
    "from transformers.utils import check_min_version, send_example_telemetry\n",
    "from transformers.utils.versions import require_version\n",
    "check_min_version(\"4.28.0.dev0\")\n"
   ]
  },
  {
   "cell_type": "code",
   "execution_count": 1,
   "id": "6fd97e9b-e187-4af6-9fcb-6ca789a9bc35",
   "metadata": {},
   "outputs": [],
   "source": [
    "from transformers import ViTImageProcessor, ViTForImageClassification\n",
    "from PIL import Image\n",
    "import requests"
   ]
  },
  {
   "cell_type": "code",
   "execution_count": 2,
   "id": "218419e0-518d-492d-87db-40328305ec65",
   "metadata": {},
   "outputs": [
    {
     "data": {
      "application/vnd.jupyter.widget-view+json": {
       "model_id": "4672e7dd16014b51af527afc314ab265",
       "version_major": 2,
       "version_minor": 0
      },
      "text/plain": [
       "Downloading (…)rocessor_config.json:   0%|          | 0.00/160 [00:00<?, ?B/s]"
      ]
     },
     "metadata": {},
     "output_type": "display_data"
    },
    {
     "data": {
      "application/vnd.jupyter.widget-view+json": {
       "model_id": "3d2873c582a741f5ab1f6b36ac441f49",
       "version_major": 2,
       "version_minor": 0
      },
      "text/plain": [
       "Downloading (…)lve/main/config.json:   0%|          | 0.00/69.7k [00:00<?, ?B/s]"
      ]
     },
     "metadata": {},
     "output_type": "display_data"
    },
    {
     "data": {
      "application/vnd.jupyter.widget-view+json": {
       "model_id": "82a0877e8ae84cce8e9021eabd1dde43",
       "version_major": 2,
       "version_minor": 0
      },
      "text/plain": [
       "Downloading pytorch_model.bin:   0%|          | 0.00/346M [00:00<?, ?B/s]"
      ]
     },
     "metadata": {},
     "output_type": "display_data"
    },
    {
     "name": "stdout",
     "output_type": "stream",
     "text": [
      "Predicted class: Egyptian cat\n"
     ]
    }
   ],
   "source": [
    "\n",
    "url = 'http://images.cocodataset.org/val2017/000000039769.jpg'\n",
    "image = Image.open(requests.get(url, stream=True).raw)\n",
    "\n",
    "processor = ViTImageProcessor.from_pretrained('google/vit-base-patch16-224')\n",
    "model = ViTForImageClassification.from_pretrained('google/vit-base-patch16-224')\n",
    "\n",
    "inputs = processor(images=image, return_tensors=\"pt\")\n",
    "outputs = model(**inputs)\n",
    "logits = outputs.logits\n",
    "# model predicts one of the 1000 ImageNet classes\n",
    "predicted_class_idx = logits.argmax(-1).item()\n",
    "print(\"Predicted class:\", model.config.id2label[predicted_class_idx])"
   ]
  }
 ],
 "metadata": {
  "kernelspec": {
   "display_name": "Python 3 (ipykernel)",
   "language": "python",
   "name": "python3"
  },
  "language_info": {
   "codemirror_mode": {
    "name": "ipython",
    "version": 3
   },
   "file_extension": ".py",
   "mimetype": "text/x-python",
   "name": "python",
   "nbconvert_exporter": "python",
   "pygments_lexer": "ipython3",
   "version": "3.8.15"
  }
 },
 "nbformat": 4,
 "nbformat_minor": 5
}
